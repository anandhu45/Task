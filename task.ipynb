{
  "nbformat": 4,
  "nbformat_minor": 0,
  "metadata": {
    "colab": {
      "provenance": [],
      "authorship_tag": "ABX9TyNUZ/k7SOGSkARLHWMql+5e",
      "include_colab_link": true
    },
    "kernelspec": {
      "name": "python3",
      "display_name": "Python 3"
    },
    "language_info": {
      "name": "python"
    }
  },
  "cells": [
    {
      "cell_type": "markdown",
      "metadata": {
        "id": "view-in-github",
        "colab_type": "text"
      },
      "source": [
        "<a href=\"https://colab.research.google.com/github/anandhu45/Task/blob/main/task.ipynb\" target=\"_parent\"><img src=\"https://colab.research.google.com/assets/colab-badge.svg\" alt=\"Open In Colab\"/></a>"
      ]
    },
    {
      "cell_type": "code",
      "execution_count": 1,
      "metadata": {
        "colab": {
          "base_uri": "https://localhost:8080/"
        },
        "id": "flRJa7EPLxo7",
        "outputId": "bbc2c7d9-25dd-47b1-8ae9-5fe36bba2432"
      },
      "outputs": [
        {
          "output_type": "stream",
          "name": "stdout",
          "text": [
            "enter the number of rows :4\n",
            "enter the number of coloums :7\n",
            " ___     ___     ___     ___     ___     ___     ___    \n",
            "/   \\___/   \\___/   \\___/   \\___/   \\___/   \\___/   \\\n",
            "\\___/   \\___/   \\___/   \\___/   \\___/   \\___/   \\___/   \n",
            "/   \\___/   \\___/   \\___/   \\___/   \\___/   \\___/   \\\n",
            "\\___/   \\___/   \\___/   \\___/   \\___/   \\___/   \\___/   \n",
            "/   \\___/   \\___/   \\___/   \\___/   \\___/   \\___/   \\\n",
            "\\___/   \\___/   \\___/   \\___/   \\___/   \\___/   \\___/   \n",
            "/   \\___/   \\___/   \\___/   \\___/   \\___/   \\___/   \\\n",
            "\\___/   \\___/   \\___/   \\___/   \\___/   \\___/   \\___/   \n"
          ]
        }
      ],
      "source": [
        "def pattern(rows,cols):\n",
        "  top=\" ___    \"*(cols)\n",
        "  middle=\"/   \\\\___\"*(cols-1)+\"/   \\\\\"\n",
        "  down=\"\\\\___/   \"*(cols)\n",
        "  top1=\" ___   \"\n",
        "\n",
        "\n",
        "\n",
        "  for i in range(rows):\n",
        "       if i==0:\n",
        "         print(top)\n",
        "       print(middle)\n",
        "       print(down)\n",
        "rows=int(input(\"enter the number of rows :\"))\n",
        "columns=int(input(\"enter the number of coloums :\"))\n",
        "pattern(rows,columns)"
      ]
    }
  ]
}