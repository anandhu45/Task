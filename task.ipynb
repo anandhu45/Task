{
  "nbformat": 4,
  "nbformat_minor": 0,
  "metadata": {
    "colab": {
      "provenance": [],
      "authorship_tag": "ABX9TyOTG8XRLxLXRedCtsphAlyZ",
      "include_colab_link": true
    },
    "kernelspec": {
      "name": "python3",
      "display_name": "Python 3"
    },
    "language_info": {
      "name": "python"
    }
  },
  "cells": [
    {
      "cell_type": "markdown",
      "metadata": {
        "id": "view-in-github",
        "colab_type": "text"
      },
      "source": [
        "<a href=\"https://colab.research.google.com/github/anandhu45/Task/blob/main/task.ipynb\" target=\"_parent\"><img src=\"https://colab.research.google.com/assets/colab-badge.svg\" alt=\"Open In Colab\"/></a>"
      ]
    },
    {
      "cell_type": "code",
      "execution_count": 2,
      "metadata": {
        "colab": {
          "base_uri": "https://localhost:8080/"
        },
        "id": "flRJa7EPLxo7",
        "outputId": "fa1cf6af-f0b9-4aca-8125-653ba1622522"
      },
      "outputs": [
        {
          "output_type": "stream",
          "name": "stdout",
          "text": [
            "enter the number of rows :3\n",
            "enter the number of coloums :5\n",
            " ___     ___     ___    \n",
            "/   \\___/   \\___/   \\\n",
            "\\___/   \\___/   \\___/   \n",
            "/   \\___/   \\___/   \\\n",
            "\\___/   \\___/   \\___/   \n",
            "/   \\___/   \\___/   \\\n",
            "\\___/   \\___/   \\___/   \n"
          ]
        }
      ],
      "source": [
        "def pattern(rows,cols):\n",
        "  top=\" ___    \"*(cols-2)\n",
        "  middle=\"/   \\\\___\"*(cols-3)+\"/   \\\\\"\n",
        "  down=\"\\\\___/   \"*(cols-2)\n",
        "  top1=\" ___   \"\n",
        "\n",
        "\n",
        "\n",
        "  for i in range(rows):\n",
        "       if i==0:\n",
        "         print(top)\n",
        "       print(middle)\n",
        "       print(down)\n",
        "rows=int(input(\"enter the number of rows :\"))\n",
        "columns=int(input(\"enter the number of coloums :\"))\n",
        "pattern(rows,columns)"
      ]
    }
  ]
}